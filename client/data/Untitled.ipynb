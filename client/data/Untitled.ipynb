{
 "cells": [
  {
   "cell_type": "code",
   "execution_count": 1,
   "metadata": {
    "collapsed": true
   },
   "outputs": [],
   "source": [
    "import os.path as op\n",
    "import scipy.io as sio\n",
    "import pandas as pd\n",
    "import numpy as np"
   ]
  },
  {
   "cell_type": "code",
   "execution_count": 2,
   "metadata": {
    "collapsed": true
   },
   "outputs": [],
   "source": [
    "mat_file_name = '/home/jyeatman/git/AFQ/afq.mat'\n",
    "subject_ids=None\n",
    "stats=None      \n",
    "out_file=None"
   ]
  },
  {
   "cell_type": "code",
   "execution_count": 3,
   "metadata": {
    "collapsed": false
   },
   "outputs": [],
   "source": [
    "afq = sio.loadmat(mat_file_name, squeeze_me=True)['afq']\n",
    "vals = afq['vals'].item()\n",
    "tract_ids = afq['fgnames'].item()"
   ]
  },
  {
   "cell_type": "code",
   "execution_count": 4,
   "metadata": {
    "collapsed": false
   },
   "outputs": [
    {
     "data": {
      "text/plain": [
       "(6,)"
      ]
     },
     "execution_count": 4,
     "metadata": {},
     "output_type": "execute_result"
    }
   ],
   "source": [
    "afq['sub_ids'].item().shape"
   ]
  },
  {
   "cell_type": "code",
   "execution_count": 5,
   "metadata": {
    "collapsed": false
   },
   "outputs": [],
   "source": [
    "n_tracts = len(tract_ids)\n",
    "if stats is None:\n",
    "    stats = list(vals.dtype.fields.keys())\n",
    "columns = ['subjectID', 'tractID', 'nodeID']\n",
    "columns = columns + stats\n",
    "df = pd.DataFrame(columns=columns)\n",
    "n_subjects, nodes_per_tract = vals[stats[0]].item()[0].shape\n",
    "\n",
    "# Check if subject ids is defined in the afq structure\n",
    "if subject_ids is None:\n",
    "    if 'sub_ids' in afq.dtype.fields.keys() and len(afq['sub_ids'].item()):\n",
    "        subject_ids = afq['sub_ids'].item()\n",
    "    else:  \n",
    "    # XXX Make the number of zeros flexible and depend on n_subjects:\n",
    "        subject_ids = ['subject_%03d' % i for i in range(n_subjects)]"
   ]
  },
  {
   "cell_type": "code",
   "execution_count": 6,
   "metadata": {
    "collapsed": false
   },
   "outputs": [
    {
     "data": {
      "text/plain": [
       "array([u'patient_01', u'patient_02', u'patient_03', u'control_01',\n",
       "       u'control_02', u'control_03'], dtype=object)"
      ]
     },
     "execution_count": 6,
     "metadata": {},
     "output_type": "execute_result"
    }
   ],
   "source": [
    "subject_ids"
   ]
  },
  {
   "cell_type": "code",
   "execution_count": 7,
   "metadata": {
    "collapsed": false
   },
   "outputs": [
    {
     "data": {
      "text/plain": [
       "(12000, 11)"
      ]
     },
     "execution_count": 7,
     "metadata": {},
     "output_type": "execute_result"
    }
   ],
   "source": [
    "# Loop over subjects\n",
    "for subject in range(len(subject_ids)):\n",
    "    # Loop over tracts\n",
    "    for tract in range(n_tracts):\n",
    "        # Making a subject and tract specific dataframe\n",
    "        subj_df = pd.DataFrame(\n",
    "                columns=['subjectID', 'tractID', 'nodeID'],\n",
    "                data=np.array([[subject_ids[subject]] * nodes_per_tract,\n",
    "                               [tract_ids[tract]] * nodes_per_tract,\n",
    "                               np.arange(nodes_per_tract)]).T)\n",
    "        # We're looping over the desired stats (eg fa, md) and adding them to the subjects dataframe\n",
    "        for stat in stats:\n",
    "            scalar = vals[stat].item()[tract][subject,:]\n",
    "            subj_df[stat] = scalar\n",
    "        # The subject's dataframe for this tract is now appended to the whole dataframe here\n",
    "        df = df.append(subj_df)\n",
    "# Create the file\n",
    "if out_file is None:\n",
    "    out_file = op.join('.', 'nodes.csv')\n",
    "# Write to file\n",
    "df.to_csv(out_file, index=False)\n",
    "df.shape"
   ]
  },
  {
   "cell_type": "code",
   "execution_count": 10,
   "metadata": {
    "collapsed": false
   },
   "outputs": [
    {
     "data": {
      "text/plain": [
       "array(([1, 1, 1, 1, 1, 1], [1, 1, 1, 0, 0, 0], [0.19476428956704928, 0.2259217809723988, 0.1707080471478586, 0.2276642978165535, 0.4356986841038991, 0.31110228665041284]), \n",
       "      dtype=[('session', 'O'), ('patient', 'O'), ('score', 'O')])"
      ]
     },
     "execution_count": 10,
     "metadata": {},
     "output_type": "execute_result"
    }
   ],
   "source": [
    "# Create metadata\n",
    "metadata = afq['metadata'].item()\n",
    "metadata"
   ]
  },
  {
   "cell_type": "code",
   "execution_count": null,
   "metadata": {
    "collapsed": true
   },
   "outputs": [],
   "source": []
  }
 ],
 "metadata": {
  "kernelspec": {
   "display_name": "Python 2",
   "language": "python",
   "name": "python2"
  },
  "language_info": {
   "codemirror_mode": {
    "name": "ipython",
    "version": 2
   },
   "file_extension": ".py",
   "mimetype": "text/x-python",
   "name": "python",
   "nbconvert_exporter": "python",
   "pygments_lexer": "ipython2",
   "version": "2.7.12"
  }
 },
 "nbformat": 4,
 "nbformat_minor": 0
}
